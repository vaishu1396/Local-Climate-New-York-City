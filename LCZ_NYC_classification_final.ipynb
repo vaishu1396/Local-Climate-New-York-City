{
  "nbformat": 4,
  "nbformat_minor": 0,
  "metadata": {
    "colab": {
      "name": "LCZ NYC classification - final.ipynb",
      "provenance": [],
      "collapsed_sections": []
    },
    "kernelspec": {
      "name": "python3",
      "display_name": "Python 3"
    },
    "language_info": {
      "name": "python"
    }
  },
  "cells": [
    {
      "cell_type": "code",
      "source": [
        "from osgeo import gdal\n",
        "from __future__ import print_function\n",
        "import glob\n",
        "import glob2\n",
        "gdal.UseExceptions()\n",
        "import tensorflow as tf\n",
        "from tensorflow.keras.models import load_model"
      ],
      "metadata": {
        "id": "9Mdeakagazyl"
      },
      "execution_count": null,
      "outputs": []
    },
    {
      "cell_type": "code",
      "source": [
        "import keras\n",
        "from keras.layers import Dense, Conv2D, BatchNormalization, Reshape, Activation, Permute, Lambda, Concatenate,GlobalAveragePooling2D\n",
        "from keras.layers import AveragePooling2D, Input, Flatten\n",
        "from tensorflow.keras.optimizers import Adam\n",
        "from keras.callbacks import ModelCheckpoint, LearningRateScheduler\n",
        "from keras.callbacks import ReduceLROnPlateau\n",
        "from keras.preprocessing.image import ImageDataGenerator\n",
        "from keras.regularizers import l2\n",
        "from keras import backend as K\n",
        "from keras.models import Model\n",
        "\n",
        "from __future__ import print_function\n",
        "import os\n",
        "import sys\n",
        "import time\n",
        "import logging\n",
        "import numpy as np\n",
        "import tensorflow as tf\n"
      ],
      "metadata": {
        "id": "WRK1IHrDWgol"
      },
      "execution_count": null,
      "outputs": []
    },
    {
      "cell_type": "code",
      "source": [
        "Staten_island_test = np.load('/content/drive/MyDrive/ADS_ML_Spring_2022/ADS/Data/Final_Test/Staten_island_test.npy')"
      ],
      "metadata": {
        "id": "wPhdi_uDcCof"
      },
      "execution_count": null,
      "outputs": []
    },
    {
      "cell_type": "code",
      "execution_count": null,
      "metadata": {
        "colab": {
          "base_uri": "https://localhost:8080/"
        },
        "id": "Yo_jZ_gTWNKl",
        "outputId": "0ff703fb-705b-4187-e4c5-71728c588811"
      },
      "outputs": [
        {
          "output_type": "execute_result",
          "data": {
            "text/plain": [
              "(223725, 32, 32, 10)"
            ]
          },
          "metadata": {},
          "execution_count": 4
        }
      ],
      "source": [
        "Staten_island_test.shape"
      ]
    },
    {
      "cell_type": "code",
      "source": [
        "model = load_model(\"/content/drive/MyDrive/ADS_ML_Spring_2022/ADS/model/so2_sat_satellite-classification.h5\")"
      ],
      "metadata": {
        "id": "m3UBwmO-m3sK"
      },
      "execution_count": null,
      "outputs": []
    },
    {
      "cell_type": "code",
      "source": [
        "classes_x=model.predict(Staten_island_test,batch_size=256) "
      ],
      "metadata": {
        "id": "J6HuInqrpGs6"
      },
      "execution_count": null,
      "outputs": []
    },
    {
      "cell_type": "code",
      "source": [
        "del Staten_island_test"
      ],
      "metadata": {
        "id": "ZVGKp9Kgxuup"
      },
      "execution_count": null,
      "outputs": []
    },
    {
      "cell_type": "code",
      "source": [
        "classes_x"
      ],
      "metadata": {
        "colab": {
          "base_uri": "https://localhost:8080/"
        },
        "id": "SRGr4FUmyKr3",
        "outputId": "f57d6c42-a202-4c47-ea9d-126cf0d28a72"
      },
      "execution_count": null,
      "outputs": [
        {
          "output_type": "execute_result",
          "data": {
            "text/plain": [
              "array([[2.1903933e-04, 4.3171854e-05, 6.9984948e-05, ..., 8.5722989e-01,\n",
              "        9.5325317e-03, 2.3001604e-04],\n",
              "       [2.1903933e-04, 4.3171854e-05, 6.9984948e-05, ..., 8.5722989e-01,\n",
              "        9.5325317e-03, 2.3001604e-04],\n",
              "       [2.1903933e-04, 4.3171854e-05, 6.9984948e-05, ..., 8.5722989e-01,\n",
              "        9.5325317e-03, 2.3001604e-04],\n",
              "       ...,\n",
              "       [2.5131911e-04, 5.3251999e-05, 8.9711153e-05, ..., 8.4918839e-01,\n",
              "        1.0869641e-02, 2.6848144e-04],\n",
              "       [2.1903933e-04, 4.3171938e-05, 6.9984948e-05, ..., 8.5722989e-01,\n",
              "        9.5325364e-03, 2.3001649e-04],\n",
              "       [2.1903933e-04, 4.3171938e-05, 6.9984948e-05, ..., 8.5722989e-01,\n",
              "        9.5325364e-03, 2.3001646e-04]], dtype=float32)"
            ]
          },
          "metadata": {},
          "execution_count": 7
        }
      ]
    },
    {
      "cell_type": "code",
      "source": [
        "Staten_Island_Y = np.argmax(classes_x,axis=-1)"
      ],
      "metadata": {
        "id": "sFxNrMqGBV4K"
      },
      "execution_count": null,
      "outputs": []
    },
    {
      "cell_type": "code",
      "source": [
        "Staten_Island_Y.shape"
      ],
      "metadata": {
        "colab": {
          "base_uri": "https://localhost:8080/"
        },
        "id": "pHPexZSA50yD",
        "outputId": "ec34e154-0bbb-4da4-9493-71fc54c5c2e8"
      },
      "execution_count": null,
      "outputs": [
        {
          "output_type": "execute_result",
          "data": {
            "text/plain": [
              "(223725,)"
            ]
          },
          "metadata": {},
          "execution_count": 9
        }
      ]
    },
    {
      "cell_type": "code",
      "source": [
        "Staten_Island_Y_grid = np.reshape(Staten_Island_Y, (471, 475))"
      ],
      "metadata": {
        "id": "u1M42-X8PsTz"
      },
      "execution_count": null,
      "outputs": []
    },
    {
      "cell_type": "code",
      "source": [
        "Staten_Island_Y_grid.shape\n"
      ],
      "metadata": {
        "colab": {
          "base_uri": "https://localhost:8080/"
        },
        "id": "vPsge5hwPr7k",
        "outputId": "fa9b59da-9a63-4f2c-ae3c-0746494ccdc2"
      },
      "execution_count": null,
      "outputs": [
        {
          "output_type": "execute_result",
          "data": {
            "text/plain": [
              "(471, 475)"
            ]
          },
          "metadata": {},
          "execution_count": 22
        }
      ]
    },
    {
      "cell_type": "code",
      "source": [
        ""
      ],
      "metadata": {
        "id": "ux_C2tCBQQdM"
      },
      "execution_count": null,
      "outputs": []
    },
    {
      "cell_type": "code",
      "source": [
        ""
      ],
      "metadata": {
        "id": "0CdbtucGPq_Y"
      },
      "execution_count": null,
      "outputs": []
    },
    {
      "cell_type": "code",
      "source": [
        "np.save('/content/drive/MyDrive/ADS_ML_Spring_2022/ADS/Data/Final_Test/Staten_Island_Y', Staten_Island_Y)\n"
      ],
      "metadata": {
        "id": "A6DAvxWXB1Vi"
      },
      "execution_count": null,
      "outputs": []
    },
    {
      "cell_type": "code",
      "source": [
        "Manhattan_test = np.load('/content/drive/MyDrive/ADS_ML_Spring_2022/ADS/Data/Final_Test/Manhattan_test.npy')"
      ],
      "metadata": {
        "id": "ooegpLafCRMk"
      },
      "execution_count": null,
      "outputs": []
    },
    {
      "cell_type": "code",
      "source": [
        "Manhattan_test.shape"
      ],
      "metadata": {
        "colab": {
          "base_uri": "https://localhost:8080/"
        },
        "id": "FHfjp28vCo3_",
        "outputId": "b60f100d-5e1c-46b1-b4c6-d23487172252"
      },
      "execution_count": null,
      "outputs": [
        {
          "output_type": "execute_result",
          "data": {
            "text/plain": [
              "(223725, 32, 32, 10)"
            ]
          },
          "metadata": {},
          "execution_count": 3
        }
      ]
    },
    {
      "cell_type": "code",
      "source": [
        "classes_x=model.predict(Manhattan_test)"
      ],
      "metadata": {
        "id": "o5_WMnUyDeHH"
      },
      "execution_count": null,
      "outputs": []
    },
    {
      "cell_type": "code",
      "source": [
        "Manhattan_Y = np.argmax(classes_x,axis=-1)"
      ],
      "metadata": {
        "id": "aCU4gNTDRpOu"
      },
      "execution_count": null,
      "outputs": []
    },
    {
      "cell_type": "code",
      "source": [
        "np.save('/content/drive/MyDrive/ADS_ML_Spring_2022/ADS/Data/Final_Test/Manhattan_Y', Manhattan_Y)"
      ],
      "metadata": {
        "id": "ofKA2gr2RuXt"
      },
      "execution_count": null,
      "outputs": []
    },
    {
      "cell_type": "code",
      "source": [
        "# loading Staten Island predictions\n",
        "\n",
        "Staten_Island_Y = np.load('/content/drive/MyDrive/ADS_ML_Spring_2022/ADS/Data/Final_Test/Staten_Island_Y.npy')"
      ],
      "metadata": {
        "id": "JJ-NEIgZftOL"
      },
      "execution_count": null,
      "outputs": []
    },
    {
      "cell_type": "code",
      "source": [
        "Staten_Island_Y.shape"
      ],
      "metadata": {
        "colab": {
          "base_uri": "https://localhost:8080/"
        },
        "id": "GjZmidufgC0U",
        "outputId": "f54eeed3-849b-4083-df42-7f4ca3b20761"
      },
      "execution_count": null,
      "outputs": [
        {
          "output_type": "execute_result",
          "data": {
            "text/plain": [
              "(223725,)"
            ]
          },
          "metadata": {},
          "execution_count": 18
        }
      ]
    },
    {
      "cell_type": "code",
      "source": [
        "Manhattan_Y = np.load('/content/drive/MyDrive/ADS_ML_Spring_2022/ADS/Data/Final_Test/Manhattan_Y.npy')"
      ],
      "metadata": {
        "id": "nyPp7umskFhE"
      },
      "execution_count": null,
      "outputs": []
    },
    {
      "cell_type": "code",
      "source": [
        "Manhattan_Y.shape"
      ],
      "metadata": {
        "colab": {
          "base_uri": "https://localhost:8080/"
        },
        "id": "ScRFgAgXkFWm",
        "outputId": "4154c5ca-0c2e-4ec5-9b34-75b1b08547a8"
      },
      "execution_count": null,
      "outputs": [
        {
          "output_type": "execute_result",
          "data": {
            "text/plain": [
              "(223725,)"
            ]
          },
          "metadata": {},
          "execution_count": 100
        }
      ]
    },
    {
      "cell_type": "code",
      "source": [
        "Manhattan_Y_grid = np.reshape(Manhattan_Y, (471, 475))\n"
      ],
      "metadata": {
        "id": "kyvWtZ_gk5Hz"
      },
      "execution_count": null,
      "outputs": []
    },
    {
      "cell_type": "code",
      "source": [
        "\n",
        "\n",
        "from __future__ import print_function\n",
        "import os\n",
        "import glob\n",
        "import numpy as np\n",
        "from osgeo import gdal\n",
        "import sys\n",
        "gdal.UseExceptions()\n",
        "\n",
        "def saveProbabilityPrediction(probPred,tiffPath):\n",
        "# this function save the predicted probabilities\n",
        "    try:\n",
        "        fid = gdal.Open(tiffPath)\n",
        "    except RuntimeError as e:\n",
        "        print(\"!!!!!!!!!!!!!!!!!!!!!!!!!!!!!!!!!!!!!!!!!!!!!!!!!!!!!!!!!!!!!!!!!!!!\")\n",
        "        print(\"ERROR:           the given data geotiff can not be open by GDAL\")\n",
        "        print(\"DIRECTORY:       \"+tiffPath)\n",
        "        print(\"GDAL EXCEPCTION: \"+e)\n",
        "        print(\"!!!!!!!!!!!!!!!!!!!!!!!!!!!!!!!!!!!!!!!!!!!!!!!!!!!!!!!!!!!!!!!!!!!!\")\n",
        "        sys.exit(1)\n",
        "\n",
        "    row = fid.RasterYSize\n",
        "    col = fid.RasterXSize\n",
        "    bnd = fid.RasterCount\n",
        "    proj = fid.GetProjection()\n",
        "    geoInfo = fid.GetGeoTransform()\n",
        "    del(fid)\n",
        "\n",
        "    if probPred.shape[0] != row * col:\n",
        "        print(\"!!!!!!!!!!!!!!!!!!!!!!!!!!!!!!!!!!!!!!!!!!!!!!!!!!!!!!!!!!!!!!!!!!!!\")\n",
        "        print(\"ERROR:           number of patches does not suit the output size\")\n",
        "        print(\"!!!!!!!!!!!!!!!!!!!!!!!!!!!!!!!!!!!!!!!!!!!!!!!!!!!!!!!!!!!!!!!!!!!!\")\n",
        "        sys.exit(1)\n",
        "\n",
        "    #print(np.median(probPred[:]))\n",
        "    probPred = np.array(probPred*1e4)\n",
        "    #print(np.median(probPred[:]))\n",
        "    probPred = probPred.astype(np.int16)\n",
        "    #print(np.median(probPred[:]))\n",
        "    #print(probPred.shape)\n",
        "    prob = np.transpose(np.reshape(probPred,(row,col,17)),(2,0,1))\n",
        "    #print(probPred.shape)\n",
        "\n",
        "\n",
        "    LCZDriver = gdal.GetDriverByName('GTiff')\n",
        "    LCZFile = LCZDriver.Create(tiffPath, col, row, bnd, gdal.GDT_UInt16)\n",
        "    LCZFile.SetProjection(proj)\n",
        "    LCZFile.SetGeoTransform(geoInfo)\n",
        "\n",
        "    # save file with int zeros\n",
        "    idBnd = np.arange(0,bnd,dtype=int)\n",
        "    for idxBnd in idBnd:\n",
        "        outBand = LCZFile.GetRasterBand(int(idxBnd+1))\n",
        "        outBand.WriteArray(prob[idxBnd,:,:].astype(np.int16))\n",
        "        outBand.FlushCache()\n",
        "        del(outBand)\n",
        "\n",
        "    return tiffPath\n",
        "\n",
        "\n",
        "\n",
        "\n",
        "def saveLabelPrediction(labPred,tiffPath):\n",
        "# this function save the predicted label\n",
        "    try:\n",
        "        fid = gdal.Open(tiffPath)\n",
        "    except RuntimeError as e:\n",
        "        print(\"!!!!!!!!!!!!!!!!!!!!!!!!!!!!!!!!!!!!!!!!!!!!!!!!!!!!!!!!!!!!!!!!!!!!\")\n",
        "        print(\"ERROR:           the given data geotiff can not be open by GDAL\")\n",
        "        print(\"DIRECTORY:       \"+tiffPath)\n",
        "        print(\"GDAL EXCEPCTION: \"+e)\n",
        "        print(\"!!!!!!!!!!!!!!!!!!!!!!!!!!!!!!!!!!!!!!!!!!!!!!!!!!!!!!!!!!!!!!!!!!!!\")\n",
        "        sys.exit(1)\n",
        "\n",
        "    row = fid.RasterYSize\n",
        "    col = fid.RasterXSize\n",
        "    bnd = fid.RasterCount\n",
        "    proj = fid.GetProjection()\n",
        "    geoInfo = fid.GetGeoTransform()\n",
        "    del(fid)\n",
        "\n",
        "    if labPred.shape[0] != row * col:\n",
        "        print(\"!!!!!!!!!!!!!!!!!!!!!!!!!!!!!!!!!!!!!!!!!!!!!!!!!!!!!!!!!!!!!!!!!!!!\")\n",
        "        print(\"ERROR:           number of patches does not suit the output size\")\n",
        "        print(\"!!!!!!!!!!!!!!!!!!!!!!!!!!!!!!!!!!!!!!!!!!!!!!!!!!!!!!!!!!!!!!!!!!!!\")\n",
        "        sys.exit(1)\n",
        "\n",
        "    print(labPred.shape)\n",
        "    print(np.median(labPred[:]))\n",
        "    lab = np.reshape(labPred,(row,col))+1\n",
        "#    lab = prob.argmax(axis=2).astype(np.uint8)+1\n",
        "    print(lab.shape)\n",
        "    print(np.median(lab[:]))\n",
        "\n",
        "\n",
        "    LCZDriver = gdal.GetDriverByName('GTiff')\n",
        "    LCZFile = LCZDriver.Create(tiffPath, col, row, bnd, gdal.GDT_UInt16)\n",
        "    LCZFile.SetProjection(proj)\n",
        "    LCZFile.SetGeoTransform(geoInfo)\n",
        "\n",
        "    # save file with predicted label\n",
        "    outBand = LCZFile.GetRasterBand(1)\n",
        "    outBand.WriteArray(lab)\n",
        "    outBand.FlushCache()\n",
        "    del(outBand)\n",
        "\n",
        "    return tiffPath\n",
        "\n",
        "\n",
        "\n",
        "\n",
        "\n",
        "def getPatch(data,imageCoord,patchsize):\n",
        "# this function gets data patch with give image coordinate and patch size\n",
        "    halfPatchSize = np.int(np.floor(patchsize/2))\n",
        "\n",
        "    outData = np.lib.pad(data,((0,0),(halfPatchSize,halfPatchSize),(halfPatchSize,halfPatchSize)),'symmetric')\n",
        "    outData = np.transpose(outData,(1,2,0))\n",
        "\n",
        "    imageCoord = imageCoord + halfPatchSize\n",
        "\n",
        "    print('INFO:    Array size: ' + str(imageCoord.shape[0]) + ',' + str(patchsize) + ',' + str(patchsize) + ',' + str(data.shape[0]))\n",
        "    dataPatch = np.zeros((imageCoord.shape[0], patchsize,patchsize,data.shape[0]), dtype=np.float32)\n",
        "\n",
        "    for i in range(0,imageCoord.shape[0]):\n",
        "        #print(i)\n",
        "        dataPatch[i,:,:,:] = outData[imageCoord[i,1]-halfPatchSize:imageCoord[i,1]+halfPatchSize,imageCoord[i,0]-halfPatchSize:imageCoord[i,0]+halfPatchSize,:]\n",
        "\n",
        "    return dataPatch\n",
        "\n",
        "\n",
        "\n",
        "def getImageCoordByXYCoord(coord,path2Data):\n",
        "# this function gets data patches by given coordinates\n",
        "# Input:\n",
        "#         - coord           -- coordinate [x,y]\n",
        "#         - path2Data       -- path to unfiltered tiff data\n",
        "#\n",
        "# Output:\n",
        "#         - imageCoord      -- image coordinate of the input real world coordiate\n",
        "#\n",
        "\n",
        "\n",
        "    try:\n",
        "        fid = gdal.Open(path2Data)\n",
        "    except RuntimeError as e:\n",
        "        print(\"!!!!!!!!!!!!!!!!!!!!!!!!!!!!!!!!!!!!!!!!!!!!!!!!!!!!!!!!!!!!!!!!!!!!\")\n",
        "        print(\"ERROR:           the given ground truth geotiff can not be open by GDAL\")\n",
        "        print(\"DIRECTORY:       \"+gtPath)\n",
        "        print(\"GDAL EXCEPCTION: \"+e)\n",
        "        print(\"!!!!!!!!!!!!!!!!!!!!!!!!!!!!!!!!!!!!!!!!!!!!!!!!!!!!!!!!!!!!!!!!!!!!\")\n",
        "        sys.exit(1)\n",
        "\n",
        "\n",
        "    geoInfoData = fid.GetGeoTransform()\n",
        "\n",
        "    imageCoord = np.zeros(coord.shape)\n",
        "\n",
        "    imageCoord[:,0] = np.round((coord[:,0] - geoInfoData[0])/geoInfoData[1])\n",
        "    imageCoord[:,1] = np.round((geoInfoData[3] - coord[:,1])/np.abs(geoInfoData[5]))\n",
        "\n",
        "    return imageCoord.astype(int)\n",
        "\n",
        "\n",
        "def getCoordLCZGrid(lczPath):\n",
        "# this function gets the coordinate of every cell for the LCZ classification map\n",
        "# Input:\n",
        "#         - lczPath         -- path to a initialed lcz classification map grid\n",
        "#\n",
        "# Output:\n",
        "#         - coordCell       -- the coordinate of each cell of the map grid. A N by 2 array with N is the number of cell, 1st col is x-coordinate, 2nd col is y-coordinate, The coordinate organized line by line.\n",
        "#\n",
        "\n",
        "    try:\n",
        "        fid = gdal.Open(lczPath)\n",
        "    except RuntimeError as e:\n",
        "        print(\"!!!!!!!!!!!!!!!!!!!!!!!!!!!!!!!!!!!!!!!!!!!!!!!!!!!!!!!!!!!!!!!!!!!!\")\n",
        "        print(\"ERROR:           the given ground truth geotiff can not be open by GDAL\")\n",
        "        print(\"DIRECTORY:       \"+gtPath)\n",
        "        print(\"GDAL EXCEPCTION: \"+e)\n",
        "        print(\"!!!!!!!!!!!!!!!!!!!!!!!!!!!!!!!!!!!!!!!!!!!!!!!!!!!!!!!!!!!!!!!!!!!!\")\n",
        "        sys.exit(1)\n",
        "\n",
        "    # read the grid and find coordinate of each cell\n",
        "    row_cell = np.arange(0,fid.RasterYSize)\n",
        "    col_cell = np.arange(0,fid.RasterXSize)\n",
        "\n",
        "    geoInfoGrid = fid.GetGeoTransform()\n",
        "\n",
        "    xWorld = geoInfoGrid[0] + col_cell * geoInfoGrid[1];\n",
        "    yWorld = geoInfoGrid[3] + row_cell * geoInfoGrid[5];\n",
        "\n",
        "    [xWorld,yWorld] = np.meshgrid(xWorld,yWorld)\n",
        "    coordCell = np.transpose(np.stack((np.ravel(xWorld),np.ravel(yWorld)),axis=0))\n",
        "    return coordCell\n",
        "\n",
        "\n",
        "\n",
        "\n",
        "\n",
        "\n",
        "def initialLCZGrids(tiffData):\n",
        "# this function initial a LCZ label grid and a LCZ probability grid.\n",
        "#    Input:\n",
        "#        - tiffData        -- path to sentinel-1 tiff data\n",
        "#                          -- EXAMPLE: tiffData = '/data/hu/global_processing/01692_22142_Katowice/geocoded_subset_unfilt_dat/201706/S1B_IW_SLC__1SDV_20170601T045205_20170601T045232_005852_00A42A_504B_Orb_Cal_Deb_TC_SUB.tif'\n",
        "#\n",
        "#    Output:\n",
        "#        - return 0        -- a LCZ tiff initialized\n",
        "#                          -- EXAMPLE:\n",
        "#\n",
        "    # number of bands, number of LCZ classes\n",
        "    nbBnd = 12\n",
        "\n",
        "    # read geoinformation from the sentinel-1 tiff data\n",
        "    dataFile = gdal.Open(tiffData)\n",
        "    dataCoordSys = np.array(dataFile.GetGeoTransform())\n",
        "    dataCol = dataFile.RasterXSize\n",
        "    dataRow = dataFile.RasterYSize\n",
        "\n",
        "    # set geoinformation for the output LCZ label grid\n",
        "    # set resolution and coordinate for upper-left point\n",
        "    LCZCoordSys = dataCoordSys.copy()\n",
        "    LCZCoordSys[1] = 100\n",
        "    LCZCoordSys[5] = -100\n",
        "    LCZCol = np.arange(dataCoordSys[0],dataCoordSys[0]+dataCol*dataCoordSys[1],LCZCoordSys[1]).shape[0]\n",
        "    LCZRow = np.arange(dataCoordSys[3],dataCoordSys[3]+dataRow*dataCoordSys[5],LCZCoordSys[5]).shape[0]\n",
        "\n",
        "    # set the directory of initial grid\n",
        "    savePath = '/'.join(tiffData.split('/')[:-1])\n",
        "    savePath = savePath.replace(tiffData.split('/')[-3],'LCZClaMap')\n",
        "    if not os.path.exists(savePath):\n",
        "        os.makedirs(savePath)\n",
        "\n",
        "    # initial the grid and set resolution, projection, and coordinate\n",
        "    LCZDriver = gdal.GetDriverByName('GTiff')\n",
        "    LCZTiffPath = savePath+'/LCZLabel.tif'\n",
        "    LCZFile = LCZDriver.Create(savePath+'/LCZLabel.tif', LCZCol, LCZRow)\n",
        "    LCZFile.SetProjection(dataFile.GetProjection())\n",
        "    LCZFile.SetGeoTransform(LCZCoordSys)\n",
        "\n",
        "    # save file with int zeros\n",
        "    LCZLabel = np.zeros((LCZRow,LCZCol),dtype = int)\n",
        "    outBand = LCZFile.GetRasterBand(1)\n",
        "    outBand.WriteArray(LCZLabel)\n",
        "    outBand.FlushCache()\n",
        "\n",
        "    del(LCZDriver)\n",
        "    del(LCZFile)\n",
        "    del(outBand)\n",
        "    del(LCZLabel)\n",
        "\n",
        "\n",
        "    # initial the grid and set resolution, projection, and coordinate\n",
        "    LCZDriver = gdal.GetDriverByName('GTiff')\n",
        "    LCZFile = LCZDriver.Create(savePath+'/LCZProb.tif', LCZCol, LCZRow, nbBnd)\n",
        "    LCZFile.SetProjection(dataFile.GetProjection())\n",
        "    LCZFile.SetGeoTransform(LCZCoordSys)\n",
        "\n",
        "    # save file with int zeros\n",
        "    LCZLabel = np.zeros((LCZRow,LCZCol))\n",
        "    idBnd = np.arange(0,nbBnd,dtype=int)\n",
        "    for idxBnd in idBnd:\n",
        "        outBand = LCZFile.GetRasterBand(idxBnd+1)\n",
        "        outBand.WriteArray(LCZLabel)\n",
        "        outBand.FlushCache()\n",
        "        del(outBand)\n",
        "    outputpath = [savePath+'/LCZLabel.tif',savePath+'/LCZProb.tif']\n",
        "\n",
        "    return outputpath\n",
        "\n",
        "\n",
        "\n",
        "\n",
        "\n",
        "def initialLCZLabelGrid(tiffData,outGridDir):\n",
        "# this function initial a 100 meter resolution LCZ label grid based on input geotiff.\n",
        "#    Input:\n",
        "#        - tiffData        -- path to sentinel-1 or senitnel-2 tiff data\n",
        "# \t - outGridDir      -- path to initialed lcz label geotiff\n",
        "#\n",
        "#    Output:\n",
        "#        - return 0        -- a LCZ tiff initialized\n",
        "    # read geoinformation from the sentinel-1 tiff data\n",
        "    dataFile = gdal.Open(tiffData)\n",
        "    dataCoordSys = np.array(dataFile.GetGeoTransform())\n",
        "    dataCol = dataFile.RasterXSize\n",
        "    dataRow = dataFile.RasterYSize\n",
        "\n",
        "    # set geoinformation for the output LCZ label grid\n",
        "    # set resolution and coordinate for upper-left point\n",
        "    LCZCoordSys = dataCoordSys.copy()\n",
        "    LCZCoordSys[1] = 100\n",
        "    LCZCoordSys[5] = -100\n",
        "    LCZCol = np.arange(dataCoordSys[0],dataCoordSys[0]+dataCol*dataCoordSys[1],LCZCoordSys[1]).shape[0]\n",
        "    LCZRow = np.arange(dataCoordSys[3],dataCoordSys[3]+dataRow*dataCoordSys[5],LCZCoordSys[5]).shape[0]\n",
        "\n",
        "    # set the directory of initial grid\n",
        "    savePath = '/'.join(outGridDir.split('/')[:-1])\n",
        "    if not os.path.exists(savePath):\n",
        "        os.makedirs(savePath)\n",
        "\n",
        "    # initial the grid and set resolution, projection, and coordinate\n",
        "    LCZDriver = gdal.GetDriverByName('GTiff')\n",
        "    LCZFile = LCZDriver.Create(outGridDir, LCZCol, LCZRow)\n",
        "    LCZFile.SetProjection(dataFile.GetProjection())\n",
        "    LCZFile.SetGeoTransform(LCZCoordSys)\n",
        "\n",
        "    # save file with int zeros\n",
        "    LCZLabel = np.zeros((LCZRow,LCZCol),dtype = np.int8)\n",
        "    outBand = LCZFile.GetRasterBand(1)\n",
        "    outBand.WriteArray(LCZLabel)\n",
        "    outBand.FlushCache()\n",
        "    return 0\n",
        "\n",
        "def initialLCZProbGrid(tiffData,outGridDir):\n",
        "# this function initial a 100 meter resolution LCZ label grid based on input geotiff.\n",
        "#    Input:\n",
        "#        - tiffData        -- path to sentinel-1 or sentinel-2 tiff data\n",
        "# \t - outGridDir      -- path to initialized softmax geotiff file\n",
        "#\n",
        "#    Output:\n",
        "#        - return 0        -- a LCZ tiff initialized with 17 bands, each of them presents a probability that the pixel falls under a class\n",
        "#                          -- EXAMPLE:\n",
        "#\n",
        "    # number of bands, number of LCZ classes\n",
        "    nbBnd = 17\n",
        "    # read geoinformation from the sentinel-1 tiff data\n",
        "    dataFile = gdal.Open(tiffData)\n",
        "    dataCoordSys = np.array(dataFile.GetGeoTransform())\n",
        "    dataCol = dataFile.RasterXSize\n",
        "    dataRow = dataFile.RasterYSize\n",
        "\n",
        "    # set geoinformation for the output LCZ label grid\n",
        "    # set resolution and coordinate for upper-left point\n",
        "    LCZCoordSys = dataCoordSys.copy()\n",
        "    LCZCoordSys[1] = 100\n",
        "    LCZCoordSys[5] = -100\n",
        "    LCZCol = np.arange(dataCoordSys[0],dataCoordSys[0]+dataCol*dataCoordSys[1],LCZCoordSys[1]).shape[0]\n",
        "    LCZRow = np.arange(dataCoordSys[3],dataCoordSys[3]+dataRow*dataCoordSys[5],LCZCoordSys[5]).shape[0]\n",
        "\n",
        "    # set the directory of initial grid\n",
        "    savePath = '/'.join(outGridDir.split('/')[:-1])\n",
        "    if not os.path.exists(savePath):\n",
        "        os.makedirs(savePath)\n",
        "\n",
        "    # initial the grid and set resolution, projection, and coordinate\n",
        "    LCZDriver = gdal.GetDriverByName('GTiff')\n",
        "    LCZFile = LCZDriver.Create(outGridDir, LCZCol, LCZRow, nbBnd)\n",
        "    LCZFile.SetProjection(dataFile.GetProjection())\n",
        "    LCZFile.SetGeoTransform(LCZCoordSys)\n",
        "\n",
        "    # save file with int zeros\n",
        "    LCZProb = np.zeros((LCZRow,LCZCol),dtype = np.int16)\n",
        "    nbBnd = 11\n",
        "    idBnd = np.arange(0,nbBnd,dtype=int)\n",
        "    for idxBnd in idBnd:\n",
        "        outBand = LCZFile.GetRasterBand(int(idxBnd+1))\n",
        "        outBand.WriteArray(LCZProb)\n",
        "        outBand.FlushCache()\n",
        "        del(outBand)\n",
        "\n",
        "    return 0"
      ],
      "metadata": {
        "id": "heWqqX7LmtbS"
      },
      "execution_count": null,
      "outputs": []
    },
    {
      "cell_type": "code",
      "source": [
        "city = \"manhattan\"\n",
        "path2DataOfCity = sys.argv[1]\n",
        "dataPathTif = \"/content/drive/MyDrive/ADS_ML_Spring_2022/ADS/Data/Final_Test/manhaattan1.tif\""
      ],
      "metadata": {
        "id": "VwYEWIvEobld"
      },
      "execution_count": null,
      "outputs": []
    },
    {
      "cell_type": "code",
      "source": [
        "outProbTif = path2DataOfCity+'/LCZ_ResNet20/'+city+dataPathTif[dataPathTif.rfind('_'):-4]+'_pro.tiff'\n",
        "outLabelTif = outProbTif.replace('_pro','_lab')\n",
        "print('INFO:    The classification map: {}'.format(outLabelTif))\n",
        "#print(outProbTif)\n",
        "#print(outLabelTif)\n",
        "\n",
        "# initial classification map tiff file\n",
        "LCZProbPath = initialLCZProbGrid(dataPathTif,outProbTif)\n",
        "\n",
        "# LCZLabelPath = gp.initialLCZLabelGrid(dataPathTif,outLabelTif)\n",
        "\n",
        "  #file name of the mv results\n",
        "outLabelTif_mv = path2DataOfCity+'/LCZ_ResNet20/'+city+'_lab.tiff'\n",
        "LCZLabelPath = initialLCZLabelGrid(dataPathTif,outLabelTif_mv)\n",
        "\n",
        "# get patch coordinate\n",
        "coordCell = getCoordLCZGrid(outProbTif)\n",
        "coordImage = getImageCoordByXYCoord(coordCell,dataPathTif)"
      ],
      "metadata": {
        "colab": {
          "base_uri": "https://localhost:8080/"
        },
        "id": "kMX_A7OulmaE",
        "outputId": "780d387c-f5b9-4ba6-a3cb-ae6ea6d52a07"
      },
      "execution_count": null,
      "outputs": [
        {
          "output_type": "stream",
          "name": "stdout",
          "text": [
            "INFO:    The classification map: -f/LCZ_ResNet20/manhattan_Test/manhaattan1_lab.tiff\n"
          ]
        }
      ]
    },
    {
      "cell_type": "code",
      "source": [
        ""
      ],
      "metadata": {
        "id": "9SlE0Zlfoarw"
      },
      "execution_count": null,
      "outputs": []
    },
    {
      "cell_type": "code",
      "source": [
        "probPath = saveProbabilityPrediction(Manhattan_Y,outProbTif)\n",
        "\n",
        "\n"
      ],
      "metadata": {
        "colab": {
          "base_uri": "https://localhost:8080/",
          "height": 392
        },
        "id": "ehGxeHu1lsDF",
        "outputId": "a4146c3d-85a6-4df9-d2c0-8a2e34950a64"
      },
      "execution_count": null,
      "outputs": [
        {
          "output_type": "error",
          "ename": "ValueError",
          "evalue": "ignored",
          "traceback": [
            "\u001b[0;31m---------------------------------------------------------------------------\u001b[0m",
            "\u001b[0;31mValueError\u001b[0m                                Traceback (most recent call last)",
            "\u001b[0;32m<ipython-input-28-c52f66d703d9>\u001b[0m in \u001b[0;36m<module>\u001b[0;34m()\u001b[0m\n\u001b[0;32m----> 1\u001b[0;31m \u001b[0mprobPath\u001b[0m \u001b[0;34m=\u001b[0m \u001b[0msaveProbabilityPrediction\u001b[0m\u001b[0;34m(\u001b[0m\u001b[0mManhattan_Y\u001b[0m\u001b[0;34m,\u001b[0m\u001b[0moutProbTif\u001b[0m\u001b[0;34m)\u001b[0m\u001b[0;34m\u001b[0m\u001b[0;34m\u001b[0m\u001b[0m\n\u001b[0m\u001b[1;32m      2\u001b[0m \u001b[0;34m\u001b[0m\u001b[0m\n\u001b[1;32m      3\u001b[0m \u001b[0;34m\u001b[0m\u001b[0m\n",
            "\u001b[0;32m<ipython-input-19-f499d5294417>\u001b[0m in \u001b[0;36msaveProbabilityPrediction\u001b[0;34m(probPred, tiffPath)\u001b[0m\n\u001b[1;32m     40\u001b[0m     \u001b[0;31m#print(np.median(probPred[:]))\u001b[0m\u001b[0;34m\u001b[0m\u001b[0;34m\u001b[0m\u001b[0;34m\u001b[0m\u001b[0m\n\u001b[1;32m     41\u001b[0m     \u001b[0;31m#print(probPred.shape)\u001b[0m\u001b[0;34m\u001b[0m\u001b[0;34m\u001b[0m\u001b[0;34m\u001b[0m\u001b[0m\n\u001b[0;32m---> 42\u001b[0;31m     \u001b[0mprob\u001b[0m \u001b[0;34m=\u001b[0m \u001b[0mnp\u001b[0m\u001b[0;34m.\u001b[0m\u001b[0mtranspose\u001b[0m\u001b[0;34m(\u001b[0m\u001b[0mnp\u001b[0m\u001b[0;34m.\u001b[0m\u001b[0mreshape\u001b[0m\u001b[0;34m(\u001b[0m\u001b[0mprobPred\u001b[0m\u001b[0;34m,\u001b[0m\u001b[0;34m(\u001b[0m\u001b[0mrow\u001b[0m\u001b[0;34m,\u001b[0m\u001b[0mcol\u001b[0m\u001b[0;34m,\u001b[0m\u001b[0;36m17\u001b[0m\u001b[0;34m)\u001b[0m\u001b[0;34m)\u001b[0m\u001b[0;34m,\u001b[0m\u001b[0;34m(\u001b[0m\u001b[0;36m2\u001b[0m\u001b[0;34m,\u001b[0m\u001b[0;36m0\u001b[0m\u001b[0;34m,\u001b[0m\u001b[0;36m1\u001b[0m\u001b[0;34m)\u001b[0m\u001b[0;34m)\u001b[0m\u001b[0;34m\u001b[0m\u001b[0;34m\u001b[0m\u001b[0m\n\u001b[0m\u001b[1;32m     43\u001b[0m     \u001b[0;31m#print(probPred.shape)\u001b[0m\u001b[0;34m\u001b[0m\u001b[0;34m\u001b[0m\u001b[0;34m\u001b[0m\u001b[0m\n\u001b[1;32m     44\u001b[0m \u001b[0;34m\u001b[0m\u001b[0m\n",
            "\u001b[0;32m<__array_function__ internals>\u001b[0m in \u001b[0;36mreshape\u001b[0;34m(*args, **kwargs)\u001b[0m\n",
            "\u001b[0;32m/usr/local/lib/python3.7/dist-packages/numpy/core/fromnumeric.py\u001b[0m in \u001b[0;36mreshape\u001b[0;34m(a, newshape, order)\u001b[0m\n\u001b[1;32m    296\u001b[0m            [5, 6]])\n\u001b[1;32m    297\u001b[0m     \"\"\"\n\u001b[0;32m--> 298\u001b[0;31m     \u001b[0;32mreturn\u001b[0m \u001b[0m_wrapfunc\u001b[0m\u001b[0;34m(\u001b[0m\u001b[0ma\u001b[0m\u001b[0;34m,\u001b[0m \u001b[0;34m'reshape'\u001b[0m\u001b[0;34m,\u001b[0m \u001b[0mnewshape\u001b[0m\u001b[0;34m,\u001b[0m \u001b[0morder\u001b[0m\u001b[0;34m=\u001b[0m\u001b[0morder\u001b[0m\u001b[0;34m)\u001b[0m\u001b[0;34m\u001b[0m\u001b[0;34m\u001b[0m\u001b[0m\n\u001b[0m\u001b[1;32m    299\u001b[0m \u001b[0;34m\u001b[0m\u001b[0m\n\u001b[1;32m    300\u001b[0m \u001b[0;34m\u001b[0m\u001b[0m\n",
            "\u001b[0;32m/usr/local/lib/python3.7/dist-packages/numpy/core/fromnumeric.py\u001b[0m in \u001b[0;36m_wrapfunc\u001b[0;34m(obj, method, *args, **kwds)\u001b[0m\n\u001b[1;32m     55\u001b[0m \u001b[0;34m\u001b[0m\u001b[0m\n\u001b[1;32m     56\u001b[0m     \u001b[0;32mtry\u001b[0m\u001b[0;34m:\u001b[0m\u001b[0;34m\u001b[0m\u001b[0;34m\u001b[0m\u001b[0m\n\u001b[0;32m---> 57\u001b[0;31m         \u001b[0;32mreturn\u001b[0m \u001b[0mbound\u001b[0m\u001b[0;34m(\u001b[0m\u001b[0;34m*\u001b[0m\u001b[0margs\u001b[0m\u001b[0;34m,\u001b[0m \u001b[0;34m**\u001b[0m\u001b[0mkwds\u001b[0m\u001b[0;34m)\u001b[0m\u001b[0;34m\u001b[0m\u001b[0;34m\u001b[0m\u001b[0m\n\u001b[0m\u001b[1;32m     58\u001b[0m     \u001b[0;32mexcept\u001b[0m \u001b[0mTypeError\u001b[0m\u001b[0;34m:\u001b[0m\u001b[0;34m\u001b[0m\u001b[0;34m\u001b[0m\u001b[0m\n\u001b[1;32m     59\u001b[0m         \u001b[0;31m# A TypeError occurs if the object does have such a method in its\u001b[0m\u001b[0;34m\u001b[0m\u001b[0;34m\u001b[0m\u001b[0;34m\u001b[0m\u001b[0m\n",
            "\u001b[0;31mValueError\u001b[0m: cannot reshape array of size 223725 into shape (471,475,17)"
          ]
        }
      ]
    },
    {
      "cell_type": "code",
      "source": [
        "numImg=len(dataPathTif)"
      ],
      "metadata": {
        "id": "ogmgGaRCrrax"
      },
      "execution_count": null,
      "outputs": []
    },
    {
      "cell_type": "code",
      "source": [
        "numImg"
      ],
      "metadata": {
        "colab": {
          "base_uri": "https://localhost:8080/"
        },
        "id": "LJ398FHCsJLR",
        "outputId": "d8bd774f-fc08-4c67-9afc-d065421e0d03"
      },
      "execution_count": null,
      "outputs": [
        {
          "output_type": "execute_result",
          "data": {
            "text/plain": [
              "77"
            ]
          },
          "metadata": {},
          "execution_count": 33
        }
      ]
    },
    {
      "cell_type": "code",
      "source": [
        "probPred_all=Manhattan_Y/float(numImg)\n",
        "probPath = saveLabel_fromSoftmax(probPred_all, outLabelTif_mv)"
      ],
      "metadata": {
        "colab": {
          "base_uri": "https://localhost:8080/",
          "height": 374
        },
        "id": "junYzusUoMVq",
        "outputId": "e57b50cc-76ed-4bbc-b776-6c48a1da6745"
      },
      "execution_count": null,
      "outputs": [
        {
          "output_type": "error",
          "ename": "ValueError",
          "evalue": "ignored",
          "traceback": [
            "\u001b[0;31m---------------------------------------------------------------------------\u001b[0m",
            "\u001b[0;31mValueError\u001b[0m                                Traceback (most recent call last)",
            "\u001b[0;32m<ipython-input-32-0c9e074a0d06>\u001b[0m in \u001b[0;36m<module>\u001b[0;34m()\u001b[0m\n\u001b[1;32m      1\u001b[0m \u001b[0mprobPred_all\u001b[0m\u001b[0;34m=\u001b[0m\u001b[0mManhattan_Y\u001b[0m\u001b[0;34m/\u001b[0m\u001b[0mfloat\u001b[0m\u001b[0;34m(\u001b[0m\u001b[0mnumImg\u001b[0m\u001b[0;34m)\u001b[0m\u001b[0;34m\u001b[0m\u001b[0;34m\u001b[0m\u001b[0m\n\u001b[0;32m----> 2\u001b[0;31m \u001b[0mprobPath\u001b[0m \u001b[0;34m=\u001b[0m \u001b[0msaveLabel_fromSoftmax\u001b[0m\u001b[0;34m(\u001b[0m\u001b[0mprobPred_all\u001b[0m\u001b[0;34m,\u001b[0m \u001b[0moutLabelTif_mv\u001b[0m\u001b[0;34m)\u001b[0m\u001b[0;34m\u001b[0m\u001b[0;34m\u001b[0m\u001b[0m\n\u001b[0m",
            "\u001b[0;32m<ipython-input-31-567af2b31c6c>\u001b[0m in \u001b[0;36msaveLabel_fromSoftmax\u001b[0;34m(labPred, tiffPath)\u001b[0m\n\u001b[1;32m     26\u001b[0m     \u001b[0;31m# print(labPred.shape)\u001b[0m\u001b[0;34m\u001b[0m\u001b[0;34m\u001b[0m\u001b[0;34m\u001b[0m\u001b[0m\n\u001b[1;32m     27\u001b[0m     \u001b[0;31m# print(np.median(labPred[:]))\u001b[0m\u001b[0;34m\u001b[0m\u001b[0;34m\u001b[0m\u001b[0;34m\u001b[0m\u001b[0m\n\u001b[0;32m---> 28\u001b[0;31m     \u001b[0mprob\u001b[0m \u001b[0;34m=\u001b[0m \u001b[0mnp\u001b[0m\u001b[0;34m.\u001b[0m\u001b[0mreshape\u001b[0m\u001b[0;34m(\u001b[0m\u001b[0mlabPred\u001b[0m\u001b[0;34m,\u001b[0m\u001b[0;34m(\u001b[0m\u001b[0mrow\u001b[0m\u001b[0;34m,\u001b[0m\u001b[0mcol\u001b[0m\u001b[0;34m,\u001b[0m\u001b[0;36m17\u001b[0m\u001b[0;34m)\u001b[0m\u001b[0;34m)\u001b[0m\u001b[0;34m\u001b[0m\u001b[0;34m\u001b[0m\u001b[0m\n\u001b[0m\u001b[1;32m     29\u001b[0m     \u001b[0;31m# print(prob.shape)\u001b[0m\u001b[0;34m\u001b[0m\u001b[0;34m\u001b[0m\u001b[0;34m\u001b[0m\u001b[0m\n\u001b[1;32m     30\u001b[0m     \u001b[0;31m# print(np.median(prob[:]))\u001b[0m\u001b[0;34m\u001b[0m\u001b[0;34m\u001b[0m\u001b[0;34m\u001b[0m\u001b[0m\n",
            "\u001b[0;32m<__array_function__ internals>\u001b[0m in \u001b[0;36mreshape\u001b[0;34m(*args, **kwargs)\u001b[0m\n",
            "\u001b[0;32m/usr/local/lib/python3.7/dist-packages/numpy/core/fromnumeric.py\u001b[0m in \u001b[0;36mreshape\u001b[0;34m(a, newshape, order)\u001b[0m\n\u001b[1;32m    296\u001b[0m            [5, 6]])\n\u001b[1;32m    297\u001b[0m     \"\"\"\n\u001b[0;32m--> 298\u001b[0;31m     \u001b[0;32mreturn\u001b[0m \u001b[0m_wrapfunc\u001b[0m\u001b[0;34m(\u001b[0m\u001b[0ma\u001b[0m\u001b[0;34m,\u001b[0m \u001b[0;34m'reshape'\u001b[0m\u001b[0;34m,\u001b[0m \u001b[0mnewshape\u001b[0m\u001b[0;34m,\u001b[0m \u001b[0morder\u001b[0m\u001b[0;34m=\u001b[0m\u001b[0morder\u001b[0m\u001b[0;34m)\u001b[0m\u001b[0;34m\u001b[0m\u001b[0;34m\u001b[0m\u001b[0m\n\u001b[0m\u001b[1;32m    299\u001b[0m \u001b[0;34m\u001b[0m\u001b[0m\n\u001b[1;32m    300\u001b[0m \u001b[0;34m\u001b[0m\u001b[0m\n",
            "\u001b[0;32m/usr/local/lib/python3.7/dist-packages/numpy/core/fromnumeric.py\u001b[0m in \u001b[0;36m_wrapfunc\u001b[0;34m(obj, method, *args, **kwds)\u001b[0m\n\u001b[1;32m     55\u001b[0m \u001b[0;34m\u001b[0m\u001b[0m\n\u001b[1;32m     56\u001b[0m     \u001b[0;32mtry\u001b[0m\u001b[0;34m:\u001b[0m\u001b[0;34m\u001b[0m\u001b[0;34m\u001b[0m\u001b[0m\n\u001b[0;32m---> 57\u001b[0;31m         \u001b[0;32mreturn\u001b[0m \u001b[0mbound\u001b[0m\u001b[0;34m(\u001b[0m\u001b[0;34m*\u001b[0m\u001b[0margs\u001b[0m\u001b[0;34m,\u001b[0m \u001b[0;34m**\u001b[0m\u001b[0mkwds\u001b[0m\u001b[0;34m)\u001b[0m\u001b[0;34m\u001b[0m\u001b[0;34m\u001b[0m\u001b[0m\n\u001b[0m\u001b[1;32m     58\u001b[0m     \u001b[0;32mexcept\u001b[0m \u001b[0mTypeError\u001b[0m\u001b[0;34m:\u001b[0m\u001b[0;34m\u001b[0m\u001b[0;34m\u001b[0m\u001b[0m\n\u001b[1;32m     59\u001b[0m         \u001b[0;31m# A TypeError occurs if the object does have such a method in its\u001b[0m\u001b[0;34m\u001b[0m\u001b[0;34m\u001b[0m\u001b[0;34m\u001b[0m\u001b[0m\n",
            "\u001b[0;31mValueError\u001b[0m: cannot reshape array of size 223725 into shape (471,475,17)"
          ]
        }
      ]
    },
    {
      "cell_type": "code",
      "source": [
        "Manhattan_Y.shape"
      ],
      "metadata": {
        "colab": {
          "base_uri": "https://localhost:8080/"
        },
        "id": "P0_cYG_Sn6xn",
        "outputId": "e11868d1-5ff2-45da-bb4d-925b642e0ff3"
      },
      "execution_count": null,
      "outputs": [
        {
          "output_type": "execute_result",
          "data": {
            "text/plain": [
              "(223725,)"
            ]
          },
          "metadata": {},
          "execution_count": 23
        }
      ]
    },
    {
      "cell_type": "code",
      "source": [
        "def saveLabel_fromSoftmax(labPred,tiffPath):\n",
        "# this function save the predicted label\n",
        "    try:\n",
        "        fid = gdal.Open(tiffPath)\n",
        "    except RuntimeError as e:\n",
        "        print(\"!!!!!!!!!!!!!!!!!!!!!!!!!!!!!!!!!!!!!!!!!!!!!!!!!!!!!!!!!!!!!!!!!!!!\")\n",
        "        print(\"ERROR:           the given data geotiff can not be open by GDAL\")\n",
        "        print(\"DIRECTORY:       \"+tiffPath)\n",
        "        print(\"GDAL EXCEPCTION: \"+e)\n",
        "        print(\"!!!!!!!!!!!!!!!!!!!!!!!!!!!!!!!!!!!!!!!!!!!!!!!!!!!!!!!!!!!!!!!!!!!!\")\n",
        "        sys.exit(1)\n",
        "\n",
        "    row = fid.RasterYSize\n",
        "    col = fid.RasterXSize\n",
        "    bnd = fid.RasterCount\n",
        "    proj = fid.GetProjection()\n",
        "    geoInfo = fid.GetGeoTransform()\n",
        "    del(fid)\n",
        "\n",
        "    if labPred.shape[0] != row * col:\n",
        "        print(\"!!!!!!!!!!!!!!!!!!!!!!!!!!!!!!!!!!!!!!!!!!!!!!!!!!!!!!!!!!!!!!!!!!!!\")\n",
        "        print(\"ERROR:           number of patches does not suit the output size\")\n",
        "        print(\"!!!!!!!!!!!!!!!!!!!!!!!!!!!!!!!!!!!!!!!!!!!!!!!!!!!!!!!!!!!!!!!!!!!!\")\n",
        "        sys.exit(1)\n",
        "\n",
        "    # print(labPred.shape)\n",
        "    # print(np.median(labPred[:]))\n",
        "    prob = np.reshape(labPred,(row,col,17))\n",
        "    # print(prob.shape)\n",
        "    # print(np.median(prob[:]))\n",
        "    lab = prob.argmax(axis=2).astype(np.uint8)+1\n",
        "    # print(lab.shape)\n",
        "    # print(np.median(lab[:]))\n",
        "\n",
        "\n",
        "    LCZDriver = gdal.GetDriverByName('GTiff')\n",
        "    LCZFile = LCZDriver.Create(tiffPath, col, row, bnd, gdal.GDT_UInt16)\n",
        "    LCZFile.SetProjection(proj)\n",
        "    LCZFile.SetGeoTransform(geoInfo)\n",
        "\n",
        "    # save file with predicted label\n",
        "    outBand = LCZFile.GetRasterBand(1)\n",
        "    outBand.WriteArray(lab)\n",
        "    outBand.FlushCache()\n",
        "    del(outBand)\n",
        "\n",
        "    return lab"
      ],
      "metadata": {
        "id": "_ipCa-I4n8d7"
      },
      "execution_count": null,
      "outputs": []
    },
    {
      "cell_type": "code",
      "source": [
        "\n",
        "def getImageCoordByXYCoord(coord,path2Data):\n",
        "# this function gets data patches by given coordinates\n",
        "# Input:\n",
        "#         - coord           -- coordinate [x,y]\n",
        "#         - path2Data       -- path to unfiltered tiff data\n",
        "#\n",
        "# Output:\n",
        "#         - imageCoord      -- image coordinate of the input real world coordiate\n",
        "#\n",
        "\n",
        "\n",
        "    try:\n",
        "        fid = gdal.Open(path2Data)\n",
        "    except RuntimeError as e:\n",
        "        print(\"!!!!!!!!!!!!!!!!!!!!!!!!!!!!!!!!!!!!!!!!!!!!!!!!!!!!!!!!!!!!!!!!!!!!\")\n",
        "        print(\"ERROR:           the given ground truth geotiff can not be open by GDAL\")\n",
        "        print(\"DIRECTORY:       \"+gtPath)\n",
        "        print(\"GDAL EXCEPCTION: \"+e)\n",
        "        print(\"!!!!!!!!!!!!!!!!!!!!!!!!!!!!!!!!!!!!!!!!!!!!!!!!!!!!!!!!!!!!!!!!!!!!\")\n",
        "        sys.exit(1)\n",
        "\n",
        "\n",
        "    geoInfoData = fid.GetGeoTransform()\n",
        "\n",
        "    imageCoord = np.zeros(coord.shape)\n",
        "\n",
        "    imageCoord[:,0] = np.round((coord[:,0] - geoInfoData[0])/geoInfoData[1])\n",
        "    imageCoord[:,1] = np.round((geoInfoData[3] - coord[:,1])/np.abs(geoInfoData[5]))\n",
        "\n",
        "    return imageCoord.astype(int)\n",
        "\n",
        "\n",
        "def getCoordLCZGrid(lczPath):\n",
        "# this function gets the coordinate of every cell for the LCZ classification map\n",
        "# Input:\n",
        "#         - lczPath         -- path to a initialed lcz classification map grid\n",
        "#\n",
        "# Output:\n",
        "#         - coordCell       -- the coordinate of each cell of the map grid. A N by 2 array with N is the number of cell, 1st col is x-coordinate, 2nd col is y-coordinate, The coordinate organized line by line.\n",
        "#\n",
        "\n",
        "    try:\n",
        "        fid = gdal.Open(lczPath)\n",
        "    except RuntimeError as e:\n",
        "        print(\"!!!!!!!!!!!!!!!!!!!!!!!!!!!!!!!!!!!!!!!!!!!!!!!!!!!!!!!!!!!!!!!!!!!!\")\n",
        "        print(\"ERROR:           the given ground truth geotiff can not be open by GDAL\")\n",
        "        print(\"DIRECTORY:       \"+gtPath)\n",
        "        print(\"GDAL EXCEPCTION: \"+e)\n",
        "        print(\"!!!!!!!!!!!!!!!!!!!!!!!!!!!!!!!!!!!!!!!!!!!!!!!!!!!!!!!!!!!!!!!!!!!!\")\n",
        "        sys.exit(1)\n",
        "\n",
        "    # read the grid and find coordinate of each cell\n",
        "    row_cell = np.arange(0,fid.RasterYSize)\n",
        "    col_cell = np.arange(0,fid.RasterXSize)\n",
        "\n",
        "    geoInfoGrid = fid.GetGeoTransform()\n",
        "\n",
        "    xWorld = geoInfoGrid[0] + col_cell * geoInfoGrid[1];\n",
        "    yWorld = geoInfoGrid[3] + row_cell * geoInfoGrid[5];\n",
        "\n",
        "    [xWorld,yWorld] = np.meshgrid(xWorld,yWorld)\n",
        "    coordCell = np.transpose(np.stack((np.ravel(xWorld),np.ravel(yWorld)),axis=0))\n",
        "    return coordCell\n",
        "\n",
        "\n",
        "\n",
        "\n",
        "\n",
        "\n",
        "def initialLCZGrids(tiffData):\n",
        "# this function initial a LCZ label grid and a LCZ probability grid.\n",
        "#    Input:\n",
        "#        - tiffData        -- path to sentinel-1 tiff data\n",
        "#                          -- EXAMPLE: tiffData = '/data/hu/global_processing/01692_22142_Katowice/geocoded_subset_unfilt_dat/201706/S1B_IW_SLC__1SDV_20170601T045205_20170601T045232_005852_00A42A_504B_Orb_Cal_Deb_TC_SUB.tif'\n",
        "#\n",
        "#    Output:\n",
        "#        - return 0        -- a LCZ tiff initialized\n",
        "#                          -- EXAMPLE:\n",
        "#\n",
        "    # number of bands, number of LCZ classes\n",
        "    nbBnd = 12\n",
        "\n",
        "    # read geoinformation from the sentinel-1 tiff data\n",
        "    dataFile = gdal.Open(tiffData)\n",
        "    dataCoordSys = np.array(dataFile.GetGeoTransform())\n",
        "    dataCol = dataFile.RasterXSize\n",
        "    dataRow = dataFile.RasterYSize\n",
        "\n",
        "    # set geoinformation for the output LCZ label grid\n",
        "    # set resolution and coordinate for upper-left point\n",
        "    LCZCoordSys = dataCoordSys.copy()\n",
        "    LCZCoordSys[1] = 100\n",
        "    LCZCoordSys[5] = -100\n",
        "    LCZCol = np.arange(dataCoordSys[0],dataCoordSys[0]+dataCol*dataCoordSys[1],LCZCoordSys[1]).shape[0]\n",
        "    LCZRow = np.arange(dataCoordSys[3],dataCoordSys[3]+dataRow*dataCoordSys[5],LCZCoordSys[5]).shape[0]\n",
        "\n",
        "    # set the directory of initial grid\n",
        "    savePath = '/'.join(tiffData.split('/')[:-1])\n",
        "    savePath = savePath.replace(tiffData.split('/')[-3],'LCZClaMap')\n",
        "    if not os.path.exists(savePath):\n",
        "        os.makedirs(savePath)\n",
        "\n",
        "    # initial the grid and set resolution, projection, and coordinate\n",
        "    LCZDriver = gdal.GetDriverByName('GTiff')\n",
        "    LCZTiffPath = savePath+'/LCZLabel.tif'\n",
        "    LCZFile = LCZDriver.Create(savePath+'/LCZLabel.tif', LCZCol, LCZRow)\n",
        "    LCZFile.SetProjection(dataFile.GetProjection())\n",
        "    LCZFile.SetGeoTransform(LCZCoordSys)\n",
        "\n",
        "    # save file with int zeros\n",
        "    LCZLabel = np.zeros((LCZRow,LCZCol),dtype = int)\n",
        "    outBand = LCZFile.GetRasterBand(1)\n",
        "    outBand.WriteArray(LCZLabel)\n",
        "    outBand.FlushCache()\n",
        "\n",
        "    del(LCZDriver)\n",
        "    del(LCZFile)\n",
        "    del(outBand)\n",
        "    del(LCZLabel)\n",
        "\n",
        "\n",
        "    # initial the grid and set resolution, projection, and coordinate\n",
        "    LCZDriver = gdal.GetDriverByName('GTiff')\n",
        "    LCZFile = LCZDriver.Create(savePath+'/LCZProb.tif', LCZCol, LCZRow, nbBnd)\n",
        "    LCZFile.SetProjection(dataFile.GetProjection())\n",
        "    LCZFile.SetGeoTransform(LCZCoordSys)\n",
        "\n",
        "    # save file with int zeros\n",
        "    LCZLabel = np.zeros((LCZRow,LCZCol))\n",
        "    idBnd = np.arange(0,nbBnd,dtype=int)\n",
        "    for idxBnd in idBnd:\n",
        "        outBand = LCZFile.GetRasterBand(idxBnd+1)\n",
        "        outBand.WriteArray(LCZLabel)\n",
        "        outBand.FlushCache()\n",
        "        del(outBand)\n",
        "    outputpath = [savePath+'/LCZLabel.tif',savePath+'/LCZProb.tif']\n",
        "\n",
        "    return outputpath\n",
        "\n",
        "\n",
        "\n",
        "\n",
        "\n",
        "def initialLCZLabelGrid(tiffData,outGridDir):\n",
        "# this function initial a 100 meter resolution LCZ label grid based on input geotiff.\n",
        "#    Input:\n",
        "#        - tiffData        -- path to sentinel-1 or senitnel-2 tiff data\n",
        "# \t - outGridDir      -- path to initialed lcz label geotiff\n",
        "#\n",
        "#    Output:\n",
        "#        - return 0        -- a LCZ tiff initialized\n",
        "    # read geoinformation from the sentinel-1 tiff data\n",
        "    dataFile = gdal.Open(tiffData)\n",
        "    dataCoordSys = np.array(dataFile.GetGeoTransform())\n",
        "    dataCol = dataFile.RasterXSize\n",
        "    dataRow = dataFile.RasterYSize\n",
        "\n",
        "    # set geoinformation for the output LCZ label grid\n",
        "    # set resolution and coordinate for upper-left point\n",
        "    LCZCoordSys = dataCoordSys.copy()\n",
        "    LCZCoordSys[1] = 100\n",
        "    LCZCoordSys[5] = -100\n",
        "    LCZCol = np.arange(dataCoordSys[0],dataCoordSys[0]+dataCol*dataCoordSys[1],LCZCoordSys[1]).shape[0]\n",
        "    LCZRow = np.arange(dataCoordSys[3],dataCoordSys[3]+dataRow*dataCoordSys[5],LCZCoordSys[5]).shape[0]\n",
        "\n",
        "    # set the directory of initial grid\n",
        "    savePath = '/'.join(outGridDir.split('/')[:-1])\n",
        "    if not os.path.exists(savePath):\n",
        "        os.makedirs(savePath)\n",
        "\n",
        "    # initial the grid and set resolution, projection, and coordinate\n",
        "    LCZDriver = gdal.GetDriverByName('GTiff')\n",
        "    LCZFile = LCZDriver.Create(outGridDir, LCZCol, LCZRow)\n",
        "    LCZFile.SetProjection(dataFile.GetProjection())\n",
        "    LCZFile.SetGeoTransform(LCZCoordSys)\n",
        "\n",
        "    # save file with int zeros\n",
        "    LCZLabel = np.zeros((LCZRow,LCZCol),dtype = np.int8)\n",
        "    outBand = LCZFile.GetRasterBand(1)\n",
        "    outBand.WriteArray(LCZLabel)\n",
        "    outBand.FlushCache()\n",
        "    return 0\n",
        "\n",
        "def initialLCZProbGrid(tiffData,outGridDir):\n",
        "# this function initial a 100 meter resolution LCZ label grid based on input geotiff.\n",
        "#    Input:\n",
        "#        - tiffData        -- path to sentinel-1 or sentinel-2 tiff data\n",
        "# \t - outGridDir      -- path to initialized softmax geotiff file\n",
        "#\n",
        "#    Output:\n",
        "#        - return 0        -- a LCZ tiff initialized with 17 bands, each of them presents a probability that the pixel falls under a class\n",
        "#                          -- EXAMPLE:\n",
        "#\n",
        "    # number of bands, number of LCZ classes\n",
        "    nbBnd = 17\n",
        "    # read geoinformation from the sentinel-1 tiff data\n",
        "    dataFile = gdal.Open(tiffData)\n",
        "    dataCoordSys = np.array(dataFile.GetGeoTransform())\n",
        "    dataCol = dataFile.RasterXSize\n",
        "    dataRow = dataFile.RasterYSize\n",
        "\n",
        "    # set geoinformation for the output LCZ label grid\n",
        "    # set resolution and coordinate for upper-left point\n",
        "    LCZCoordSys = dataCoordSys.copy()\n",
        "    LCZCoordSys[1] = 100\n",
        "    LCZCoordSys[5] = -100\n",
        "    LCZCol = np.arange(dataCoordSys[0],dataCoordSys[0]+dataCol*dataCoordSys[1],LCZCoordSys[1]).shape[0]\n",
        "    LCZRow = np.arange(dataCoordSys[3],dataCoordSys[3]+dataRow*dataCoordSys[5],LCZCoordSys[5]).shape[0]\n",
        "\n",
        "    # set the directory of initial grid\n",
        "    savePath = '/'.join(outGridDir.split('/')[:-1])\n",
        "    if not os.path.exists(savePath):\n",
        "        os.makedirs(savePath)\n",
        "\n",
        "    # initial the grid and set resolution, projection, and coordinate\n",
        "    LCZDriver = gdal.GetDriverByName('GTiff')\n",
        "    LCZFile = LCZDriver.Create(outGridDir, LCZCol, LCZRow, nbBnd)\n",
        "    LCZFile.SetProjection(dataFile.GetProjection())\n",
        "    LCZFile.SetGeoTransform(LCZCoordSys)\n",
        "\n",
        "    # save file with int zeros\n",
        "    LCZProb = np.zeros((LCZRow,LCZCol),dtype = np.int16)\n",
        "    nbBnd = 11\n",
        "    idBnd = np.arange(0,nbBnd,dtype=int)\n",
        "    for idxBnd in idBnd:\n",
        "        outBand = LCZFile.GetRasterBand(int(idxBnd+1))\n",
        "        outBand.WriteArray(LCZProb)\n",
        "        outBand.FlushCache()\n",
        "        del(outBand)\n",
        "\n",
        "    return 0"
      ],
      "metadata": {
        "id": "bG0oQDTwB3zZ"
      },
      "execution_count": null,
      "outputs": []
    },
    {
      "cell_type": "code",
      "source": [
        "dataPathTif = \"/content/drive/MyDrive/ADS_ML_Spring_2022/ADS/Data/Final_Test/staten crop.tif\"\n",
        "path2DataOfCity = \"/content/drive/MyDrive/ADS_ML_Spring_2022/ADS/Data/Final_Test\"\n",
        "city = 'manhatten'"
      ],
      "metadata": {
        "id": "r03_nuZpGVuv"
      },
      "execution_count": null,
      "outputs": []
    },
    {
      "cell_type": "code",
      "source": [
        "outProbTif = \"/content/drive/MyDrive/ADS_ML_Spring_2022/ADS/Data/Final_Test/Manhattan_1_crop.tif\"\n",
        "outLabelTif = outProbTif.replace('_pro','_lab')"
      ],
      "metadata": {
        "id": "gVVmnl11KzS5"
      },
      "execution_count": null,
      "outputs": []
    },
    {
      "cell_type": "code",
      "source": [
        "getImageCoordByXYCoord(,path2Data)"
      ],
      "metadata": {
        "id": "BzGK4QW_GMuM"
      },
      "execution_count": null,
      "outputs": []
    },
    {
      "cell_type": "code",
      "source": [
        "Staten_Island_Y_grid = Staten_Island_Y_grid.astype(int)\n",
        "Manhattan_Y_grid = Manhattan_Y_grid.astype(int)\n",
        "\n"
      ],
      "metadata": {
        "id": "9QzpZJBTULDV"
      },
      "execution_count": null,
      "outputs": []
    },
    {
      "cell_type": "code",
      "source": [
        "Manhattan_Y_grid.shape"
      ],
      "metadata": {
        "colab": {
          "base_uri": "https://localhost:8080/"
        },
        "id": "XDq7NAjOkrR8",
        "outputId": "13d9f177-4d59-4ad6-b3e9-bccf2a32396a"
      },
      "execution_count": null,
      "outputs": [
        {
          "output_type": "execute_result",
          "data": {
            "text/plain": [
              "(471, 475)"
            ]
          },
          "metadata": {},
          "execution_count": 109
        }
      ]
    },
    {
      "cell_type": "code",
      "source": [
        "dummy_grid = Staten_Island_Y_grid"
      ],
      "metadata": {
        "id": "fsSuY1eXWm9S"
      },
      "execution_count": null,
      "outputs": []
    },
    {
      "cell_type": "code",
      "source": [
        "\n",
        "# this function initial a 100 meter resolution LCZ label grid based on input geotiff.\n",
        "#    Input:\n",
        "#        - tiffData        -- path to sentinel-1 or senitnel-2 tiff data\n",
        "# \t - outGridDir      -- path to initialed lcz label geotiff\n",
        "#\n",
        "#    Output:\n",
        "#        - return 0        -- a LCZ tiff initialized\n",
        "    # read geoinformation from the sentinel-1 tiff data\n",
        "dataFile = gdal.Open(dataPathTif)\n",
        "dataCoordSys = np.array(dataFile.GetGeoTransform())\n",
        "dataCol = dataFile.RasterXSize\n",
        "dataRow = dataFile.RasterYSize\n",
        "\n",
        "# set geoinformation for the output LCZ label grid\n",
        "# set resolution and coordinate for upper-left point\n",
        "LCZCoordSys = dataCoordSys.copy()\n",
        "LCZCoordSys[1] = 100\n",
        "LCZCoordSys[5] = -100\n",
        "LCZCol = np.arange(dataCoordSys[0],dataCoordSys[0]+dataCol*dataCoordSys[1],LCZCoordSys[1]).shape[0]\n",
        "LCZRow = np.arange(dataCoordSys[3],dataCoordSys[3]+dataRow*dataCoordSys[5],LCZCoordSys[5]).shape[0]\n",
        "\n",
        "# set the directory of initial grid\n",
        "savePath = '/'.join(outProbTif.split('/')[:-1])\n",
        "if not os.path.exists(savePath):\n",
        "    os.makedirs(savePath)\n",
        "\n",
        "# initial the grid and set resolution, projection, and coordinate\n",
        "LCZDriver = gdal.GetDriverByName('GTiff')\n",
        "LCZFile = LCZDriver.Create(outProbTif, LCZCol, LCZRow)\n",
        "LCZFile.SetProjection(dataFile.GetProjection())\n",
        "LCZFile.SetGeoTransform(LCZCoordSys)\n",
        "\n",
        "# save file with int zeros\n",
        "LCZLabel = Manhattan_Y_grid\n",
        "# LCZLabel = np.ones((LCZRow,LCZCol),dtype = np.int16)\n",
        "outBand = LCZFile.GetRasterBand(1)\n",
        "outBand.WriteArray(LCZLabel)\n",
        "outBand = None\n",
        "LCZFile = None\n",
        "# outBand.FlushCache()\n",
        "\n"
      ],
      "metadata": {
        "id": "tcYN6NrPINVx"
      },
      "execution_count": null,
      "outputs": []
    },
    {
      "cell_type": "code",
      "source": [
        "np.unique(LCZLabel)"
      ],
      "metadata": {
        "colab": {
          "base_uri": "https://localhost:8080/"
        },
        "id": "079_Qho8c_Ov",
        "outputId": "3fcc5794-76ca-43ce-cb3b-ad6fe1f7c55f"
      },
      "execution_count": null,
      "outputs": [
        {
          "output_type": "execute_result",
          "data": {
            "text/plain": [
              "array([ 0,  1,  2,  3,  4,  5,  7,  8,  9, 10, 11, 12, 13, 14, 15, 16])"
            ]
          },
          "metadata": {},
          "execution_count": 114
        }
      ]
    },
    {
      "cell_type": "code",
      "source": [
        "dataFile.GetProjection()"
      ],
      "metadata": {
        "colab": {
          "base_uri": "https://localhost:8080/",
          "height": 104
        },
        "id": "JZJbIaRFcXFh",
        "outputId": "225ff5fb-117d-4ff2-c63d-bdeeb4fc42ea"
      },
      "execution_count": null,
      "outputs": [
        {
          "output_type": "execute_result",
          "data": {
            "text/plain": [
              "'PROJCS[\"WGS 84 / UTM zone 18N\",GEOGCS[\"WGS 84\",DATUM[\"WGS_1984\",SPHEROID[\"WGS 84\",6378137,298.257223563,AUTHORITY[\"EPSG\",\"7030\"]],AUTHORITY[\"EPSG\",\"6326\"]],PRIMEM[\"Greenwich\",0,AUTHORITY[\"EPSG\",\"8901\"]],UNIT[\"degree\",0.0174532925199433,AUTHORITY[\"EPSG\",\"9122\"]],AUTHORITY[\"EPSG\",\"4326\"]],PROJECTION[\"Transverse_Mercator\"],PARAMETER[\"latitude_of_origin\",0],PARAMETER[\"central_meridian\",-75],PARAMETER[\"scale_factor\",0.9996],PARAMETER[\"false_easting\",500000],PARAMETER[\"false_northing\",0],UNIT[\"metre\",1,AUTHORITY[\"EPSG\",\"9001\"]],AXIS[\"Easting\",EAST],AXIS[\"Northing\",NORTH],AUTHORITY[\"EPSG\",\"32618\"]]'"
            ],
            "application/vnd.google.colaboratory.intrinsic+json": {
              "type": "string"
            }
          },
          "metadata": {},
          "execution_count": 48
        }
      ]
    },
    {
      "cell_type": "code",
      "source": [
        "!pip install rasterio\n",
        "import rasterio"
      ],
      "metadata": {
        "colab": {
          "base_uri": "https://localhost:8080/"
        },
        "id": "EmOXM9tXZwGq",
        "outputId": "f7cf6061-ba45-423b-feaf-b8a4d2d56f38"
      },
      "execution_count": null,
      "outputs": [
        {
          "output_type": "stream",
          "name": "stdout",
          "text": [
            "Collecting rasterio\n",
            "  Downloading rasterio-1.2.10-cp37-cp37m-manylinux1_x86_64.whl (19.3 MB)\n",
            "\u001b[K     |████████████████████████████████| 19.3 MB 1.2 MB/s \n",
            "\u001b[?25hRequirement already satisfied: click>=4.0 in /usr/local/lib/python3.7/dist-packages (from rasterio) (7.1.2)\n",
            "Collecting snuggs>=1.4.1\n",
            "  Downloading snuggs-1.4.7-py3-none-any.whl (5.4 kB)\n",
            "Requirement already satisfied: setuptools in /usr/local/lib/python3.7/dist-packages (from rasterio) (57.4.0)\n",
            "Collecting affine\n",
            "  Downloading affine-2.3.1-py2.py3-none-any.whl (16 kB)\n",
            "Requirement already satisfied: numpy in /usr/local/lib/python3.7/dist-packages (from rasterio) (1.21.6)\n",
            "Requirement already satisfied: attrs in /usr/local/lib/python3.7/dist-packages (from rasterio) (21.4.0)\n",
            "Collecting cligj>=0.5\n",
            "  Downloading cligj-0.7.2-py3-none-any.whl (7.1 kB)\n",
            "Requirement already satisfied: certifi in /usr/local/lib/python3.7/dist-packages (from rasterio) (2021.10.8)\n",
            "Collecting click-plugins\n",
            "  Downloading click_plugins-1.1.1-py2.py3-none-any.whl (7.5 kB)\n",
            "Requirement already satisfied: pyparsing>=2.1.6 in /usr/local/lib/python3.7/dist-packages (from snuggs>=1.4.1->rasterio) (3.0.8)\n",
            "Installing collected packages: snuggs, cligj, click-plugins, affine, rasterio\n",
            "Successfully installed affine-2.3.1 click-plugins-1.1.1 cligj-0.7.2 rasterio-1.2.10 snuggs-1.4.7\n"
          ]
        }
      ]
    },
    {
      "cell_type": "code",
      "source": [
        "# Register GDAL format drivers and configuration options with a\n",
        "# context manager.\n",
        "with rasterio.Env():\n",
        "\n",
        "    # Write an array as a raster band to a new 8-bit file. For\n",
        "    # the new file's profile, we start with the profile of the source\n",
        "    profile = Staten_Island_Y_grid.profile\n",
        "\n",
        "    # And then change the band count to 1, set the\n",
        "    # dtype to uint8, and specify LZW compression.\n",
        "    profile.update(\n",
        "        dtype=rasterio.uint8,\n",
        "        count=1,\n",
        "        compress='lzw')\n",
        "\n",
        "    with rasterio.open(outProbTif, 'w', **profile) as dst:\n",
        "        dst.write(np.ndarray.astype(rasterio.uint8), 1)\n",
        "\n",
        "# At the end of the ``with rasterio.Env()`` block, context\n",
        "# manager exits and all drivers are de-registered."
      ],
      "metadata": {
        "colab": {
          "base_uri": "https://localhost:8080/",
          "height": 235
        },
        "id": "4mHrO93CLRMj",
        "outputId": "89311b48-c9ba-4caf-a674-c1a81d87b2a2"
      },
      "execution_count": null,
      "outputs": [
        {
          "output_type": "error",
          "ename": "AttributeError",
          "evalue": "ignored",
          "traceback": [
            "\u001b[0;31m---------------------------------------------------------------------------\u001b[0m",
            "\u001b[0;31mAttributeError\u001b[0m                            Traceback (most recent call last)",
            "\u001b[0;32m<ipython-input-47-6ca41bcbebd0>\u001b[0m in \u001b[0;36m<module>\u001b[0;34m()\u001b[0m\n\u001b[1;32m      5\u001b[0m     \u001b[0;31m# Write an array as a raster band to a new 8-bit file. For\u001b[0m\u001b[0;34m\u001b[0m\u001b[0;34m\u001b[0m\u001b[0;34m\u001b[0m\u001b[0m\n\u001b[1;32m      6\u001b[0m     \u001b[0;31m# the new file's profile, we start with the profile of the source\u001b[0m\u001b[0;34m\u001b[0m\u001b[0;34m\u001b[0m\u001b[0;34m\u001b[0m\u001b[0m\n\u001b[0;32m----> 7\u001b[0;31m     \u001b[0mprofile\u001b[0m \u001b[0;34m=\u001b[0m \u001b[0mStaten_Island_Y_grid\u001b[0m\u001b[0;34m.\u001b[0m\u001b[0mprofile\u001b[0m\u001b[0;34m\u001b[0m\u001b[0;34m\u001b[0m\u001b[0m\n\u001b[0m\u001b[1;32m      8\u001b[0m \u001b[0;34m\u001b[0m\u001b[0m\n\u001b[1;32m      9\u001b[0m     \u001b[0;31m# And then change the band count to 1, set the\u001b[0m\u001b[0;34m\u001b[0m\u001b[0;34m\u001b[0m\u001b[0;34m\u001b[0m\u001b[0m\n",
            "\u001b[0;31mAttributeError\u001b[0m: 'numpy.ndarray' object has no attribute 'profile'"
          ]
        }
      ]
    },
    {
      "cell_type": "code",
      "source": [
        "import matplotlib.pyplot as plt\n",
        "  \n",
        "\n",
        "  \n",
        "dataset = gdal.Open(r'/content/drive/MyDrive/ADS_ML_Spring_2022/ADS/Data/Final_Test/staten_4_crop.tif')\n",
        "# dataset = LCZFile\n",
        "\n",
        "band1 = dataset.GetRasterBand(1) \n",
        "b1 = band1.ReadAsArray()\n",
        "f = plt.figure()\n",
        "\n",
        "# img = np.dstack((b1))\n",
        "plt.imshow(b1)\n",
        "plt.savefig('Tiff.png')\n",
        "plt.show()"
      ],
      "metadata": {
        "id": "fxaKDWUkLVcF",
        "colab": {
          "base_uri": "https://localhost:8080/",
          "height": 269
        },
        "outputId": "7a640b46-014c-4b3d-dcff-556e22c98361"
      },
      "execution_count": null,
      "outputs": [
        {
          "output_type": "display_data",
          "data": {
            "text/plain": [
              "<Figure size 432x288 with 1 Axes>"
            ],
            "image/png": "[encoded data removed]"
          },
          "metadata": {
            "needs_background": "light"
          }
        }
      ]
    },
    {
      "cell_type": "code",
      "source": [
        "np.unique(b1)"
      ],
      "metadata": {
        "colab": {
          "base_uri": "https://localhost:8080/"
        },
        "id": "8g9hgdReefqN",
        "outputId": "2bea14d0-8141-4fbb-9628-f64f45ee02f0"
      },
      "execution_count": null,
      "outputs": [
        {
          "output_type": "execute_result",
          "data": {
            "text/plain": [
              "array([0], dtype=uint8)"
            ]
          },
          "metadata": {},
          "execution_count": 70
        }
      ]
    }
  ]
}